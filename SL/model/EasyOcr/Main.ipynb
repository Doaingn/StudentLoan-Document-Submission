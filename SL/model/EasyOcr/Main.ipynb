{
 "cells": [
  {
   "cell_type": "code",
   "execution_count": 1,
   "id": "780bc296",
   "metadata": {},
   "outputs": [
    {
     "name": "stderr",
     "output_type": "stream",
     "text": [
      "Neither CUDA nor MPS are available - defaulting to CPU. Note: This module is much faster with a GPU.\n"
     ]
    },
    {
     "name": "stdout",
     "output_type": "stream",
     "text": [
      " * Serving Flask app '__main__'\n",
      " * Debug mode: on\n"
     ]
    },
    {
     "name": "stderr",
     "output_type": "stream",
     "text": [
      "WARNING: This is a development server. Do not use it in a production deployment. Use a production WSGI server instead.\n",
      " * Running on http://127.0.0.1:5000\n",
      "Press CTRL+C to quit\n",
      " * Restarting with watchdog (windowsapi)\n"
     ]
    },
    {
     "ename": "SystemExit",
     "evalue": "1",
     "output_type": "error",
     "traceback": [
      "An exception has occurred, use %tb to see the full traceback.\n",
      "\u001b[1;31mSystemExit\u001b[0m\u001b[1;31m:\u001b[0m 1\n"
     ]
    },
    {
     "name": "stderr",
     "output_type": "stream",
     "text": [
      "D:\\Anaconda Navigator\\Lib\\site-packages\\IPython\\core\\interactiveshell.py:3534: UserWarning: To exit: use 'exit', 'quit', or Ctrl-D.\n",
      "  warn(\"To exit: use 'exit', 'quit', or Ctrl-D.\", stacklevel=1)\n"
     ]
    }
   ],
   "source": [
    "# app.py (Flask example)\n",
    "from flask import Flask, request, jsonify\n",
    "import easyocr\n",
    "import base64\n",
    "import numpy as np\n",
    "import cv2\n",
    "from PIL import Image\n",
    "import io\n",
    "\n",
    "app = Flask(__name__)\n",
    "reader = easyocr.Reader(['th', 'en'])\n",
    "\n",
    "@app.route('/api/ocr', methods=['POST'])\n",
    "def process_ocr():\n",
    "    try:\n",
    "        data = request.get_json()\n",
    "        image_base64 = data.get('image')\n",
    "        languages = data.get('languages', ['th', 'en'])\n",
    "        \n",
    "        # Decode base64 image\n",
    "        image_data = base64.b64decode(image_base64)\n",
    "        image = Image.open(io.BytesIO(image_data))\n",
    "        \n",
    "        # Convert to numpy array\n",
    "        image_array = np.array(image)\n",
    "        \n",
    "        # Process with EasyOCR\n",
    "        results = reader.readtext(image_array)\n",
    "        \n",
    "        # Extract text\n",
    "        extracted_text = ' '.join([result[1] for result in results])\n",
    "        \n",
    "        return jsonify({\n",
    "            'success': True,\n",
    "            'text': extracted_text,\n",
    "            'details': results  # รายละเอียดเพิ่มเติม\n",
    "        })\n",
    "        \n",
    "    except Exception as e:\n",
    "        return jsonify({\n",
    "            'success': False,\n",
    "            'message': str(e)\n",
    "        }), 500\n",
    "\n",
    "if __name__ == '__main__':\n",
    "    app.run(debug=True)"
   ]
  },
  {
   "cell_type": "code",
   "execution_count": null,
   "id": "f5fee3ab",
   "metadata": {},
   "outputs": [],
   "source": []
  }
 ],
 "metadata": {
  "kernelspec": {
   "display_name": "Python 3 (ipykernel)",
   "language": "python",
   "name": "python3"
  },
  "language_info": {
   "codemirror_mode": {
    "name": "ipython",
    "version": 3
   },
   "file_extension": ".py",
   "mimetype": "text/x-python",
   "name": "python",
   "nbconvert_exporter": "python",
   "pygments_lexer": "ipython3",
   "version": "3.11.5"
  }
 },
 "nbformat": 4,
 "nbformat_minor": 5
}
